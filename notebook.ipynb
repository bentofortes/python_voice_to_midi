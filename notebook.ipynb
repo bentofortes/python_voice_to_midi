{
 "cells": [
  {
   "cell_type": "code",
   "execution_count": 8,
   "id": "8b05ec1f-3657-47a0-9692-d64b66c0768d",
   "metadata": {
    "tags": []
   },
   "outputs": [],
   "source": [
    "import sounddevice as sd\n",
    "import numpy as np"
   ]
  },
  {
   "cell_type": "code",
   "execution_count": 9,
   "id": "6def0b89-1a9d-4c5b-8017-3cc3a7a4e596",
   "metadata": {},
   "outputs": [],
   "source": [
    "duration = 1\n",
    "fs = 44000\n",
    "recording = sd.rec(int(duration * fs), samplerate = fs, channels = 1, dtype = 'float32')\n",
    "sd.wait()"
   ]
  },
  {
   "cell_type": "code",
   "execution_count": 11,
   "id": "6bde0b2d-9493-48bd-9ff3-19cd12dbaf2b",
   "metadata": {},
   "outputs": [],
   "source": [
    "sd.play(recording, fs)"
   ]
  },
  {
   "cell_type": "code",
   "execution_count": 12,
   "id": "d1cffbbd-5651-4a3d-87e0-d4e269f4035d",
   "metadata": {
    "tags": []
   },
   "outputs": [],
   "source": [
    "flat = recording.flatten()\n",
    "auto_corr = np.correlate(flat, flat, mode='full')\n",
    "auto_corr = auto_corr[int(len(auto_corr)/2) : ]"
   ]
  },
  {
   "cell_type": "code",
   "execution_count": 13,
   "id": "8baec75a-222f-4874-ac65-d6df07da8ebc",
   "metadata": {
    "tags": []
   },
   "outputs": [
    {
     "data": {
      "text/plain": [
       "array([ 3.0145106e+00,  2.7846811e+00,  2.3142099e+00, ...,\n",
       "       -2.0954758e-06,  1.0827556e-05,  3.1541102e-05], dtype=float32)"
      ]
     },
     "execution_count": 13,
     "metadata": {},
     "output_type": "execute_result"
    }
   ],
   "source": [
    "auto_corr"
   ]
  },
  {
   "cell_type": "code",
   "execution_count": 14,
   "id": "c914dd28-0165-4d7b-b71c-2b26ded40081",
   "metadata": {
    "tags": []
   },
   "outputs": [],
   "source": [
    "peak = np.argmax(auto_corr[5:]) + 5"
   ]
  },
  {
   "cell_type": "code",
   "execution_count": 15,
   "id": "8d10f3f2-5bc1-4eb4-85de-7338160b2df4",
   "metadata": {},
   "outputs": [
    {
     "name": "stdout",
     "output_type": "stream",
     "text": [
      "freq = 440.0 Hz\n"
     ]
    }
   ],
   "source": [
    "print(\"freq =\", fs/peak, \"Hz\")"
   ]
  },
  {
   "cell_type": "code",
   "execution_count": null,
   "id": "1b5326ce-4324-4f1f-8216-f48562c3ba80",
   "metadata": {},
   "outputs": [],
   "source": []
  }
 ],
 "metadata": {
  "kernelspec": {
   "display_name": "Python 3 (ipykernel)",
   "language": "python",
   "name": "python3"
  },
  "language_info": {
   "codemirror_mode": {
    "name": "ipython",
    "version": 3
   },
   "file_extension": ".py",
   "mimetype": "text/x-python",
   "name": "python",
   "nbconvert_exporter": "python",
   "pygments_lexer": "ipython3",
   "version": "3.11.5"
  }
 },
 "nbformat": 4,
 "nbformat_minor": 5
}
