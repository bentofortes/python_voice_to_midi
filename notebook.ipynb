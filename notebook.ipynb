{
 "cells": [
  {
   "cell_type": "code",
   "execution_count": 8,
   "id": "8b05ec1f-3657-47a0-9692-d64b66c0768d",
   "metadata": {
    "tags": []
   },
   "outputs": [],
   "source": [
    "import sounddevice as sd\n",
    "from scipy.io import wavfile\n",
    "import numpy as np\n",
    "import wave"
   ]
  },
  {
   "cell_type": "code",
   "execution_count": null,
   "id": "6def0b89-1a9d-4c5b-8017-3cc3a7a4e596",
   "metadata": {},
   "outputs": [],
   "source": [
    "duration = 1\n",
    "fs = 44000\n",
    "recording = sd.rec(int(duration * fs), samplerate = fs, channels = 1, dtype = 'float32')\n",
    "sd.wait()"
   ]
  },
  {
   "cell_type": "code",
   "execution_count": 11,
   "id": "6bde0b2d-9493-48bd-9ff3-19cd12dbaf2b",
   "metadata": {},
   "outputs": [],
   "source": [
    "sd.play(recording, fs)"
   ]
  },
  {
   "cell_type": "code",
   "execution_count": 84,
   "id": "1ad5798e-2259-4503-9387-2fd2af6f1f3f",
   "metadata": {},
   "outputs": [],
   "source": [
    "audio_file = wavfile.read(\"sine_220.wav\")\n",
    "sample_rate = audio_file[0]\n",
    "signal = np.array(audio_file[1])\n",
    "# signal = signal[:, 0]\n",
    "signal = signal.flatten()\n",
    "signal = signal[: sample_rate]"
   ]
  },
  {
   "cell_type": "code",
   "execution_count": 89,
   "id": "d1cffbbd-5651-4a3d-87e0-d4e269f4035d",
   "metadata": {
    "tags": []
   },
   "outputs": [],
   "source": [
    "# flat = recording.flatten()\n",
    "auto_corr = np.correlate(signal, signal, mode='full')\n",
    "auto_corr = auto_corr[int(len(auto_corr)/2) : ]"
   ]
  },
  {
   "cell_type": "code",
   "execution_count": 90,
   "id": "8baec75a-222f-4874-ac65-d6df07da8ebc",
   "metadata": {
    "tags": []
   },
   "outputs": [
    {
     "data": {
      "text/plain": [
       "32767"
      ]
     },
     "execution_count": 90,
     "metadata": {},
     "output_type": "execute_result"
    }
   ],
   "source": [
    "auto_corr.max()"
   ]
  },
  {
   "cell_type": "code",
   "execution_count": 87,
   "id": "eb2cbcd6-d9c6-4555-b679-88b953223b1b",
   "metadata": {},
   "outputs": [
    {
     "name": "stdout",
     "output_type": "stream",
     "text": [
      "[19, 374, 375, 506, 888, 1148, 1307, 1807, 1966, 2077, 3369, 3436, 4362, 5031, 5091, 5211, 5728, 6246, 6684, 7174]\n"
     ]
    }
   ],
   "source": [
    "peaks = []\n",
    "\n",
    "for i in range(len(auto_corr)):\n",
    "    if auto_corr[i] > 32627:\n",
    "        peaks.append(i)\n",
    "\n",
    "print(peaks[: 20])"
   ]
  },
  {
   "cell_type": "code",
   "execution_count": 88,
   "id": "73d2bf0f-e7d6-49c1-bff9-684a7ea4e9a1",
   "metadata": {},
   "outputs": [
    {
     "name": "stdout",
     "output_type": "stream",
     "text": [
      "493.3370786516854\n"
     ]
    }
   ],
   "source": [
    "diffs = []\n",
    "for i in range(1, len(peaks)):\n",
    "    diffs.append(peaks[i] - peaks[i - 1])\n",
    "\n",
    "sum = 0\n",
    "for i in diffs:\n",
    "    sum += i\n",
    "\n",
    "print(sum/len(peaks))"
   ]
  },
  {
   "cell_type": "code",
   "execution_count": 55,
   "id": "fcbf8f8d-b138-4fa4-8724-70fadd1fe1e6",
   "metadata": {},
   "outputs": [
    {
     "name": "stdout",
     "output_type": "stream",
     "text": [
      "-1483\n",
      "44100\n",
      "[5, 7, 11, 17, 20, 25, 30, 46, 61, 65, 71, 75, 82, 91, 101, 105, 112, 116, 123, 129]\n"
     ]
    },
    {
     "name": "stderr",
     "output_type": "stream",
     "text": [
      "/tmp/ipykernel_16926/888502108.py:10: RuntimeWarning: overflow encountered in scalar subtract\n",
      "  aux = auto_corr[i] - auto_corr[i - 1]\n"
     ]
    }
   ],
   "source": [
    "step = new_step = auto_corr[1] - auto_corr[0]\n",
    "peaks = []\n",
    "\n",
    "print(auto_corr[0])\n",
    "print(len(auto_corr))\n",
    "\n",
    "\n",
    "for i in range(1, len(auto_corr) - 2):\n",
    "    # print(i - 1)\n",
    "    aux = auto_corr[i] - auto_corr[i - 1]\n",
    "    if aux >= 0:\n",
    "        new_step = 1\n",
    "    else:\n",
    "        new_step = -1\n",
    "\n",
    "    if new_step == -1 and step == 1:\n",
    "        peaks.append(i)\n",
    "\n",
    "    step = new_step\n",
    "\n",
    "print(peaks[: 20])\n",
    "\n",
    "    \n",
    "\n",
    "    "
   ]
  },
  {
   "cell_type": "code",
   "execution_count": 56,
   "id": "34a8578c-8a50-4989-858e-5e20168be148",
   "metadata": {},
   "outputs": [
    {
     "name": "stdout",
     "output_type": "stream",
     "text": [
      "[ -1483 -20877 -28097 -21625   -829  -7630  23139   4678   4201   3668\n",
      "  19437  19304   5129 -25472   2335  19328  27732  -1136  30001 -29946\n",
      "  31295   6628 -18893   4372  14022   6766   1924 -13551  21584 -12763\n",
      "  21635  -5118  22400  25879  29893 -11260   5838 -31269  -5744  16180]\n"
     ]
    }
   ],
   "source": [
    "print(auto_corr[:40])"
   ]
  },
  {
   "cell_type": "code",
   "execution_count": 91,
   "id": "c914dd28-0165-4d7b-b71c-2b26ded40081",
   "metadata": {
    "tags": []
   },
   "outputs": [],
   "source": [
    "peak = np.argmax(auto_corr[20:]) + 20"
   ]
  },
  {
   "cell_type": "code",
   "execution_count": 92,
   "id": "8d10f3f2-5bc1-4eb4-85de-7338160b2df4",
   "metadata": {},
   "outputs": [
    {
     "name": "stdout",
     "output_type": "stream",
     "text": [
      "freq = 10.110041265474553 Hz\n"
     ]
    }
   ],
   "source": [
    "print(\"freq =\", sample_rate/peak, \"Hz\")"
   ]
  },
  {
   "cell_type": "code",
   "execution_count": null,
   "id": "1b5326ce-4324-4f1f-8216-f48562c3ba80",
   "metadata": {},
   "outputs": [],
   "source": []
  }
 ],
 "metadata": {
  "kernelspec": {
   "display_name": "Python 3 (ipykernel)",
   "language": "python",
   "name": "python3"
  },
  "language_info": {
   "codemirror_mode": {
    "name": "ipython",
    "version": 3
   },
   "file_extension": ".py",
   "mimetype": "text/x-python",
   "name": "python",
   "nbconvert_exporter": "python",
   "pygments_lexer": "ipython3",
   "version": "3.10.12"
  }
 },
 "nbformat": 4,
 "nbformat_minor": 5
}
