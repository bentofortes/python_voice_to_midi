{
 "cells": [
  {
   "cell_type": "code",
   "execution_count": 8,
   "id": "8b05ec1f-3657-47a0-9692-d64b66c0768d",
   "metadata": {
    "tags": []
   },
   "outputs": [],
   "source": [
    "import sounddevice as sd\n",
    "from scipy.io import wavfile\n",
    "import numpy as np\n",
    "import wave"
   ]
  },
  {
   "cell_type": "code",
   "execution_count": null,
   "id": "6def0b89-1a9d-4c5b-8017-3cc3a7a4e596",
   "metadata": {},
   "outputs": [],
   "source": [
    "duration = 1\n",
    "fs = 44000\n",
    "recording = sd.rec(int(duration * fs), samplerate = fs, channels = 1, dtype = 'float32')\n",
    "sd.wait()"
   ]
  },
  {
   "cell_type": "code",
   "execution_count": 11,
   "id": "6bde0b2d-9493-48bd-9ff3-19cd12dbaf2b",
   "metadata": {},
   "outputs": [],
   "source": [
    "sd.play(recording, fs)"
   ]
  },
  {
   "cell_type": "code",
   "execution_count": 37,
   "id": "1ad5798e-2259-4503-9387-2fd2af6f1f3f",
   "metadata": {},
   "outputs": [],
   "source": [
    "audio_file = wavfile.read(\"sine_440.wav\")\n",
    "sample_rate = audio_file[0]\n",
    "signal = np.array(audio_file[1])\n",
    "# signal = signal[:, 0]\n",
    "signal = signal.flatten()\n",
    "signal = signal[: sample_rate]"
   ]
  },
  {
   "cell_type": "code",
   "execution_count": 38,
   "id": "d1cffbbd-5651-4a3d-87e0-d4e269f4035d",
   "metadata": {
    "tags": []
   },
   "outputs": [],
   "source": [
    "# flat = recording.flatten()\n",
    "auto_corr = np.correlate(signal, signal, mode='full')\n",
    "auto_corr = auto_corr[int(len(auto_corr)/2) : ]"
   ]
  },
  {
   "cell_type": "code",
   "execution_count": 39,
   "id": "8baec75a-222f-4874-ac65-d6df07da8ebc",
   "metadata": {
    "tags": []
   },
   "outputs": [
    {
     "data": {
      "text/plain": [
       "array([ -1483, -20877, -28097, ...,  -3077,   -513,      0], dtype=int16)"
      ]
     },
     "execution_count": 39,
     "metadata": {},
     "output_type": "execute_result"
    }
   ],
   "source": [
    "auto_corr"
   ]
  },
  {
   "cell_type": "code",
   "execution_count": 44,
   "id": "fcbf8f8d-b138-4fa4-8724-70fadd1fe1e6",
   "metadata": {},
   "outputs": [
    {
     "data": {
      "text/plain": [
       "24069"
      ]
     },
     "execution_count": 44,
     "metadata": {},
     "output_type": "execute_result"
    }
   ],
   "source": [
    "step = new_step = auto_corr[1] - auto_corr[0]\n",
    "peaks = []\n",
    "\n",
    "for i in range(1, len(auto_corr)):\n",
    "    aux = auto_corr[i] - auto_corr[i - 1]\n",
    "    if aux >= 0:\n",
    "        new_step = 1\n",
    "    else:\n",
    "        new_step = -1\n",
    "\n",
    "    if new_step == -1 and step == 1\n",
    "        peaks.append(i)\n",
    "\n",
    "print(peaks)\n",
    "\n",
    "    \n",
    "\n",
    "    "
   ]
  },
  {
   "cell_type": "code",
   "execution_count": 40,
   "id": "c914dd28-0165-4d7b-b71c-2b26ded40081",
   "metadata": {
    "tags": []
   },
   "outputs": [],
   "source": [
    "peak = np.argmax(auto_corr[20:]) + 20"
   ]
  },
  {
   "cell_type": "code",
   "execution_count": 41,
   "id": "8d10f3f2-5bc1-4eb4-85de-7338160b2df4",
   "metadata": {},
   "outputs": [
    {
     "name": "stdout",
     "output_type": "stream",
     "text": [
      "freq = 1.8322323320453695 Hz\n"
     ]
    }
   ],
   "source": [
    "print(\"freq =\", sample_rate/peak, \"Hz\")"
   ]
  },
  {
   "cell_type": "code",
   "execution_count": null,
   "id": "1b5326ce-4324-4f1f-8216-f48562c3ba80",
   "metadata": {},
   "outputs": [],
   "source": []
  }
 ],
 "metadata": {
  "kernelspec": {
   "display_name": "Python 3 (ipykernel)",
   "language": "python",
   "name": "python3"
  },
  "language_info": {
   "codemirror_mode": {
    "name": "ipython",
    "version": 3
   },
   "file_extension": ".py",
   "mimetype": "text/x-python",
   "name": "python",
   "nbconvert_exporter": "python",
   "pygments_lexer": "ipython3",
   "version": "3.10.12"
  }
 },
 "nbformat": 4,
 "nbformat_minor": 5
}
