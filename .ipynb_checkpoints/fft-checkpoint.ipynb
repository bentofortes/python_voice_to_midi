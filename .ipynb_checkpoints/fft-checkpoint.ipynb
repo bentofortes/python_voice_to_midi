{
 "cells": [
  {
   "cell_type": "code",
   "execution_count": null,
   "id": "445464f6-f4c2-45db-b157-e19cfe01a7cb",
   "metadata": {},
   "outputs": [],
   "source": [
    "from scipy.io import wavfile\n",
    "from scipy.fftpack import fft\n",
    "import numpy as np\n",
    "\n",
    "from find_note import find_note\n",
    "from write_midi import write_file\n",
    "from compress_notes import compress_notes"
   ]
  },
  {
   "cell_type": "code",
   "execution_count": null,
   "id": "39b2f087-f0e1-4b7f-bfc2-f9b17b0fc8c4",
   "metadata": {},
   "outputs": [],
   "source": [
    "audio_file = wavfile.read(\"dean_synth.wav\")\n",
    "sample_rate = audio_file[0]\n",
    "signal = np.array(audio_file[1])\n",
    "signal = signal[:, 0]"
   ]
  },
  {
   "cell_type": "code",
   "execution_count": null,
   "id": "18642f54-05e1-453e-9b01-e9a428a03c78",
   "metadata": {},
   "outputs": [],
   "source": [
    "signal"
   ]
  },
  {
   "cell_type": "code",
   "execution_count": null,
   "id": "e7f08791-1930-4e70-8914-2d50112181a2",
   "metadata": {},
   "outputs": [],
   "source": [
    "blocks = []\n",
    "start = 0\n",
    "end = int(sample_rate/15)\n",
    "while end <= len(signal):\n",
    "    blocks.append(signal[start: end])\n",
    "    start += int(sample_rate/60)\n",
    "    end += int(sample_rate/60)"
   ]
  },
  {
   "cell_type": "code",
   "execution_count": null,
   "id": "078f83bf-8a3a-4871-96a1-da449aba1a36",
   "metadata": {},
   "outputs": [],
   "source": [
    "blocks[: 5]"
   ]
  },
  {
   "cell_type": "code",
   "execution_count": null,
   "id": "a9fd4daf-7863-4153-b9c9-927bb8e58c5a",
   "metadata": {},
   "outputs": [],
   "source": [
    "freqs = []\n",
    "for b in blocks:\n",
    "    fourier = abs(fft(b))\n",
    "    freqs.append(np.argmax(fourier) * 15)"
   ]
  },
  {
   "cell_type": "code",
   "execution_count": null,
   "id": "1d9e2d49-43dc-4149-848f-a604932ecc2e",
   "metadata": {},
   "outputs": [],
   "source": []
  },
  {
   "cell_type": "code",
   "execution_count": null,
   "id": "92e4bcd9-935f-4be1-99d4-4acc02256b90",
   "metadata": {},
   "outputs": [],
   "source": [
    "notes = []\n",
    "for freq in freqs:\n",
    "    notes.append(find_note(freq))"
   ]
  },
  {
   "cell_type": "code",
   "execution_count": null,
   "id": "94478a44-5c8a-4634-b5ac-0149c491a580",
   "metadata": {},
   "outputs": [],
   "source": [
    "notes"
   ]
  },
  {
   "cell_type": "code",
   "execution_count": null,
   "id": "12f50da9-c137-477b-8a82-b719c5108144",
   "metadata": {},
   "outputs": [],
   "source": [
    "compressed = compress_notes(notes)"
   ]
  },
  {
   "cell_type": "code",
   "execution_count": null,
   "id": "dc3089cf-d3b5-4b9e-a4db-fcd34a35774d",
   "metadata": {},
   "outputs": [],
   "source": [
    "compressed"
   ]
  },
  {
   "cell_type": "code",
   "execution_count": null,
   "id": "d4650f5d-b0a2-4815-9db0-d12d1b5cb1a2",
   "metadata": {},
   "outputs": [],
   "source": [
    "write_file(compressed, 1, 180)"
   ]
  }
 ],
 "metadata": {
  "kernelspec": {
   "display_name": "Python 3 (ipykernel)",
   "language": "python",
   "name": "python3"
  },
  "language_info": {
   "codemirror_mode": {
    "name": "ipython",
    "version": 3
   },
   "file_extension": ".py",
   "mimetype": "text/x-python",
   "name": "python",
   "nbconvert_exporter": "python",
   "pygments_lexer": "ipython3",
   "version": "3.10.12"
  }
 },
 "nbformat": 4,
 "nbformat_minor": 5
}
